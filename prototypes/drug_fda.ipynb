{
  "cells": [
    {
      "cell_type": "code",
      "execution_count": 1,
      "metadata": {
        "colab": {
          "base_uri": "https://localhost:8080/"
        },
        "id": "ZkkbzTlKfm4m",
        "outputId": "96952a68-5bd4-4c4a-a8e0-d53c98d659b8"
      },
      "outputs": [
        {
          "name": "stdout",
          "output_type": "stream",
          "text": [
            "Requirement already satisfied: requests in /usr/local/lib/python3.11/dist-packages (2.32.3)\n",
            "Requirement already satisfied: matplotlib in /usr/local/lib/python3.11/dist-packages (3.10.0)\n",
            "Requirement already satisfied: pandas in /usr/local/lib/python3.11/dist-packages (2.2.2)\n",
            "Requirement already satisfied: charset-normalizer<4,>=2 in /usr/local/lib/python3.11/dist-packages (from requests) (3.4.1)\n",
            "Requirement already satisfied: idna<4,>=2.5 in /usr/local/lib/python3.11/dist-packages (from requests) (3.10)\n",
            "Requirement already satisfied: urllib3<3,>=1.21.1 in /usr/local/lib/python3.11/dist-packages (from requests) (2.3.0)\n",
            "Requirement already satisfied: certifi>=2017.4.17 in /usr/local/lib/python3.11/dist-packages (from requests) (2025.1.31)\n",
            "Requirement already satisfied: contourpy>=1.0.1 in /usr/local/lib/python3.11/dist-packages (from matplotlib) (1.3.1)\n",
            "Requirement already satisfied: cycler>=0.10 in /usr/local/lib/python3.11/dist-packages (from matplotlib) (0.12.1)\n",
            "Requirement already satisfied: fonttools>=4.22.0 in /usr/local/lib/python3.11/dist-packages (from matplotlib) (4.56.0)\n",
            "Requirement already satisfied: kiwisolver>=1.3.1 in /usr/local/lib/python3.11/dist-packages (from matplotlib) (1.4.8)\n",
            "Requirement already satisfied: numpy>=1.23 in /usr/local/lib/python3.11/dist-packages (from matplotlib) (2.0.2)\n",
            "Requirement already satisfied: packaging>=20.0 in /usr/local/lib/python3.11/dist-packages (from matplotlib) (24.2)\n",
            "Requirement already satisfied: pillow>=8 in /usr/local/lib/python3.11/dist-packages (from matplotlib) (11.1.0)\n",
            "Requirement already satisfied: pyparsing>=2.3.1 in /usr/local/lib/python3.11/dist-packages (from matplotlib) (3.2.3)\n",
            "Requirement already satisfied: python-dateutil>=2.7 in /usr/local/lib/python3.11/dist-packages (from matplotlib) (2.8.2)\n",
            "Requirement already satisfied: pytz>=2020.1 in /usr/local/lib/python3.11/dist-packages (from pandas) (2025.2)\n",
            "Requirement already satisfied: tzdata>=2022.7 in /usr/local/lib/python3.11/dist-packages (from pandas) (2025.2)\n",
            "Requirement already satisfied: six>=1.5 in /usr/local/lib/python3.11/dist-packages (from python-dateutil>=2.7->matplotlib) (1.17.0)\n"
          ]
        }
      ],
      "source": [
        "!pip install requests matplotlib pandas\n"
      ]
    },
    {
      "cell_type": "code",
      "execution_count": 18,
      "metadata": {
        "colab": {
          "base_uri": "https://localhost:8080/"
        },
        "id": "xAOHhcYsf1EO",
        "outputId": "b07f0042-0657-4bfc-bfde-21ee79b90d2e"
      },
      "outputs": [
        {
          "name": "stdout",
          "output_type": "stream",
          "text": [
            " Drug Information Card:\n",
            "\n",
            " Drug: METFORMIN HYDROCHLORIDE\n",
            " Brand: Metformin Hydrochloride\n",
            " Route: ORAL\n",
            "\n",
            " Indicated For:\n",
            " 1 INDICATIONS & USAGE Metformin hydrochloride tablets are indicated as an adjunct to diet and exercise to improve glycemic control in adults and pediatric patients 10 years of age and older with type 2 diabetes mellitus. Metformin hydrochloride tablets are biguanide indicated as an adjunct to diet and exercise to improve glycemic control in adults and pediatric patients 10 years of age and older with type 2 diabetes mellitus. ( 1 )\n",
            "\n",
            " Common Side Effects:\n",
            " 6 ADVERSE REACTIONS The following adverse reactions are also discussed elsewhere in the labeling: Lactic Acidosis [ see Boxed Warning and Warnings and Precautions (5.1) ]. Vitamin B12 Deficiency [ see Warnings and Precautions (5.2) ]. Hypoglycemia [ see Warnings and Precautions (5.3) For metformin hydrochloride tablets, the most common adverse reactions (>5.0%) are diarrhea, nausea/vomiting, flatulence, asthenia, indigestion, abdominal discomfort, and headache. ( 6.1 ) To report SUSPECTED ADVERSE REACTIONS, contact Granules Pharmaceuticals Inc at 1-877-770-3183 or FDA at 1-800-FDA-1088 or www.fda.gov/medwatch 6.1 Clinical Studies Experience Because clinical trials are conducted under widely varying conditions, adverse reaction rates observed in the clinical trials of a drug cannot be directly compared to rates in the clinical trials of another drug and may not reflect the rates observed in practice. Metformin Hydrochloride Tablets In a U.S. clinical trial of metformin hydrochloride tab\n",
            "\n",
            " Dosage Info:\n",
            " 2 DOSAGE & ADMINISTRATION Adult Dosage for metformin hydrochloride tablets: Starting dose: 500 mg orally twice a day or 850 mg once a day, with meals ( 2.1 ) Increase the dose in increments of 500 mg weekly or 850 mg every 2 weeks, up to a maximum dose of 2550 mg per day, given in divided doses ( 2.1 ) Doses above 2000 mg may be better tolerated given 3 times a day with meals ( 2.1 ) Pediatric Dosage for metformin hydrochloride tablets: Starting dose: 500 mg orally twice a day, with meals ( 2.2 ) Increase dosage in increments of 500 mg weekly up to a maximum of 2000 mg per day, given in divided doses twice daily ( 2.2 ) Renal Impairment: Prior to initiation, assess renal function with estimated glomerular filtration rate (eGFR) ( 2.3 ) Do not use in patients with eGFR below 30 mL/minute/1.73 m 2 ( 2.3 ) Initiation is not recommended in patients with eGFR between 30 to 45 mL/minute/1.73 m 2 ( 2.3 ) Assess risk/benefit of continuing if eGFR falls below 45 mL/minute/1.73 m 2 ( 2.3 ) Disco\n"
          ]
        }
      ],
      "source": [
        "import requests\n",
        "\n",
        "#  Search only for single-ingredient 'metformin hydrochloride'\n",
        "drug_name = \"metformin hydrochloride\"\n",
        "\n",
        "#  API Endpoint\n",
        "url = f'https://api.fda.gov/drug/label.json?search=openfda.generic_name:\"{drug_name}\"&limit=100'\n",
        "\n",
        "# Request\n",
        "response = requests.get(url)\n",
        "\n",
        "#  Process Results\n",
        "if response.status_code == 200:\n",
        "    data = response.json()\n",
        "    results = data.get(\"results\", [])\n",
        "\n",
        "    found = False\n",
        "    for entry in results:\n",
        "        openfda = entry.get(\"openfda\", {})\n",
        "\n",
        "        # Extract names\n",
        "        generic = \", \".join(openfda.get(\"generic_name\", [\"\"])).lower()\n",
        "        brand = \", \".join(openfda.get(\"brand_name\", [\"\"])).lower()\n",
        "\n",
        "        # Skip if it's a combo drug\n",
        "        if \" and \" in generic or \"/\" in generic or \" and \" in brand or \"/\" in brand:\n",
        "            continue\n",
        "\n",
        "        # ✅ Display if it's plain metformin\n",
        "        generic_display = \", \".join(openfda.get(\"generic_name\", [\"N/A\"]))\n",
        "        brand_display = \", \".join(openfda.get(\"brand_name\", [\"N/A\"]))\n",
        "        route = \", \".join(openfda.get(\"route\", [\"N/A\"]))\n",
        "        dosage_form = \", \".join(openfda.get(\"dosage_form\", [\"N/A\"]))\n",
        "\n",
        "        indications = entry.get(\"indications_and_usage\", [\"Not specified.\"])[0][:1000]\n",
        "        side_effects = entry.get(\"adverse_reactions\", [\"Not specified.\"])[0][:1000]\n",
        "        dosage_info = entry.get(\"dosage_and_administration\", [\"Not available.\"])[0][:1000]\n",
        "\n",
        "        print(\" Drug Information Card:\\n\")\n",
        "        print(f\" Drug: {generic_display}\")\n",
        "        print(f\" Brand: {brand_display}\")\n",
        "        print(f\" Route: {route}\")\n",
        "\n",
        "        print(\"\\n Indicated For:\\n\", indications)\n",
        "        print(\"\\n Common Side Effects:\\n\", side_effects)\n",
        "        print(\"\\n Dosage Info:\\n\", dosage_info)\n",
        "\n",
        "        found = True\n",
        "        break\n",
        "\n",
        "    if not found:\n",
        "        print(\" No matching single-drug entry found. Try increasing the limit or refining the search.\")\n",
        "else:\n",
        "    print(f\" Error: {response.status_code}\")\n",
        "    print(response.text)"
      ]
    },
    {
      "cell_type": "code",
      "execution_count": null,
      "metadata": {
        "id": "qQvmBu4otcVW"
      },
      "outputs": [],
      "source": []
    }
  ],
  "metadata": {
    "colab": {
      "provenance": []
    },
    "kernelspec": {
      "display_name": "Python 3",
      "name": "python3"
    },
    "language_info": {
      "name": "python"
    }
  },
  "nbformat": 4,
  "nbformat_minor": 0
}
